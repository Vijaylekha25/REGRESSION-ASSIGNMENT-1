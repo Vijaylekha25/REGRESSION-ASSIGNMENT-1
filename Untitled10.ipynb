{
 "cells": [
  {
   "cell_type": "markdown",
   "id": "d0c46167-a3b0-4cd5-96a6-d0778217b7f1",
   "metadata": {},
   "source": [
    "Q1. Explain the difference between simple linear regression and multiple linear regression. Provide an\n",
    "example of each."
   ]
  },
  {
   "cell_type": "markdown",
   "id": "4240f84d-472a-4110-bce7-9e787fca676c",
   "metadata": {},
   "source": [
    "Answer- Difference between Simple Linear Regression and Multiple Linear Regression:"
   ]
  },
  {
   "cell_type": "markdown",
   "id": "c8d5251f-8ae3-4adf-9dfc-63a097b30d64",
   "metadata": {},
   "source": [
    "Simple Linear Regression: It involves predicting a dependent variable using a single independent variable. For example, predicting house prices based on square footage alone.\n",
    "Multiple Linear Regression: It involves predicting a dependent variable using multiple independent variables. For instance, predicting house prices based on square footage, number of bedrooms, and neighborhood crime rate."
   ]
  },
  {
   "cell_type": "markdown",
   "id": "4e534b0d-4b74-4507-9d54-681c9bb59026",
   "metadata": {},
   "source": [
    "Q2. Discuss the assumptions of linear regression. How can you check whether these assumptions hold in\n",
    "a given dataset?"
   ]
  },
  {
   "cell_type": "markdown",
   "id": "41f231d5-fcff-44fb-ae02-b4a8ebc51174",
   "metadata": {},
   "source": [
    "Answer- Assumptions of Linear Regression:"
   ]
  },
  {
   "cell_type": "raw",
   "id": "b5e28a32-bac4-4a94-864d-287f5203cc4e",
   "metadata": {},
   "source": [
    "Linearity\n",
    "Independence\n",
    "Homoscedasticity\n",
    "Normality of residuals\n",
    "To check these assumptions, you can use techniques like scatter plots, residual plots, and statistical tests such as Shapiro-Wilk for normality and Breusch-Pagan for homoscedasticity."
   ]
  },
  {
   "cell_type": "markdown",
   "id": "450df79f-3861-41dd-97f7-3e8c6419a0ac",
   "metadata": {},
   "source": [
    "Q3. How do you interpret the slope and intercept in a linear regression model? Provide an example using\n",
    "a real-world scenario."
   ]
  },
  {
   "cell_type": "markdown",
   "id": "173bbe32-9acb-49fd-879d-72937ac672f0",
   "metadata": {},
   "source": [
    "Answer- Slope: It represents the change in the dependent variable for a one-unit change in the independent variable, holding other variables constant.\n",
    "Intercept: It is the value of the dependent variable when all independent variables are zero. It might not always have a meaningful interpretation.\n",
    "Example: In a linear regression predicting exam scores based on study hours, a slope of 0.5 would mean that for every additional hour of study, the exam score is expected to increase by 0.5 points. The intercept might represent the expected exam score if the student did zero hours of study, which might not be meaningful."
   ]
  },
  {
   "cell_type": "markdown",
   "id": "6a3ba238-9229-4d9a-ac01-6ee51c690603",
   "metadata": {},
   "source": [
    "Q4. Explain the concept of gradient descent. How is it used in machine learning?"
   ]
  },
  {
   "cell_type": "markdown",
   "id": "0ada2651-5a40-431d-aed3-73c13ac20217",
   "metadata": {},
   "source": [
    "Answer-It's an optimization algorithm used to minimize the loss function in machine learning models by iteratively adjusting the model parameters.\n",
    "The algorithm calculates the gradient of the loss function with respect to the parameters and moves in the direction that decreases the loss."
   ]
  },
  {
   "cell_type": "markdown",
   "id": "a6d36fb5-719b-4798-b0db-f2dcf189569a",
   "metadata": {},
   "source": [
    "Q5. Describe the multiple linear regression model. How does it differ from simple linear regression?"
   ]
  },
  {
   "cell_type": "markdown",
   "id": "112a99b7-11d6-4af4-ab34-02ed25b5db7e",
   "metadata": {},
   "source": [
    "Answer-It extends simple linear regression by incorporating multiple independent variables to predict a dependent variable.\n",
    "The model equation becomes: Y = β0 + β1X1 + β2X2 + ... + βn*Xn + ε, where β's are coefficients and X's are independent variables."
   ]
  },
  {
   "cell_type": "markdown",
   "id": "14392a87-0c28-4a97-b844-53a0dfe6a2b1",
   "metadata": {},
   "source": [
    "Q6. Explain the concept of multicollinearity in multiple linear regression. How can you detect and\n",
    "address this issue?"
   ]
  },
  {
   "cell_type": "markdown",
   "id": "e2996bd5-bcaa-42e0-aefb-0d994c2075c7",
   "metadata": {},
   "source": [
    "Answer-It occurs when independent variables in a regression model are highly correlated.\n",
    "Detecting: High correlation coefficients between independent variables or variance inflation factors (VIF) exceeding a threshold (typically 10).\n",
    "Addressing: Removing highly correlated variables, using dimensionality reduction techniques, or regularization methods like Ridge regression."
   ]
  },
  {
   "cell_type": "markdown",
   "id": "f2770fd1-8942-4df0-9609-424d21212029",
   "metadata": {},
   "source": [
    "Q7. Describe the polynomial regression model. How is it different from linear regression?"
   ]
  },
  {
   "cell_type": "markdown",
   "id": "9001e55c-7711-4952-83c0-ecbdd33ad650",
   "metadata": {},
   "source": [
    "Answer-It's a form of regression analysis where the relationship between the independent variable and dependent variable is modeled as an nth degree polynomial.\n",
    "Unlike linear regression, it can capture non-linear relationships."
   ]
  },
  {
   "cell_type": "markdown",
   "id": "6835499f-b0b0-44ed-9a06-71249673b33b",
   "metadata": {},
   "source": [
    "Q8. What are the advantages and disadvantages of polynomial regression compared to linear\n",
    "regression? In what situations would you prefer to use polynomial regression?"
   ]
  },
  {
   "cell_type": "markdown",
   "id": "4ecf8c6f-4163-4da3-abcd-de05bb49a918",
   "metadata": {},
   "source": [
    "Answere-Advantages: Can fit a wider range of functions, captures non-linear relationships better.\n",
    "Disadvantages: Prone to overfitting, harder to interpret, and extrapolation can lead to unreliable results.\n",
    "Situations for preference: When the relationship between variables is non-linear and a higher degree of flexibility is needed. However, caution should be exercised to prevent overfitting."
   ]
  },
  {
   "cell_type": "code",
   "execution_count": null,
   "id": "1181300e-4c03-4507-949b-6b63d3c2d290",
   "metadata": {},
   "outputs": [],
   "source": []
  },
  {
   "cell_type": "code",
   "execution_count": null,
   "id": "0963d915-edc3-4ed9-b09d-3e7258732505",
   "metadata": {},
   "outputs": [],
   "source": []
  }
 ],
 "metadata": {
  "kernelspec": {
   "display_name": "Python 3 (ipykernel)",
   "language": "python",
   "name": "python3"
  },
  "language_info": {
   "codemirror_mode": {
    "name": "ipython",
    "version": 3
   },
   "file_extension": ".py",
   "mimetype": "text/x-python",
   "name": "python",
   "nbconvert_exporter": "python",
   "pygments_lexer": "ipython3",
   "version": "3.12.2"
  }
 },
 "nbformat": 4,
 "nbformat_minor": 5
}
